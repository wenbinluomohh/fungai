{
 "cells": [
  {
   "cell_type": "code",
   "execution_count": 1,
   "id": "1b3b8272-21be-4796-bbc1-58b6ffa6aca0",
   "metadata": {},
   "outputs": [],
   "source": [
    "import pandas as pd\n",
    "import cv2\n",
    "import os\n",
    "import numpy as np\n",
    "from skimage.feature import graycomatrix, graycoprops\n",
    "from skimage.measure import shannon_entropy\n",
    "from skimage.morphology import disk"
   ]
  },
  {
   "cell_type": "code",
   "execution_count": 2,
   "id": "71006870-064f-4dda-b4c3-b397635b3c79",
   "metadata": {},
   "outputs": [],
   "source": [
    "def get_info(nonblank_path,blank_path):\n",
    "    \n",
    "    convert_path = os.path.normpath(nonblank_path)\n",
    "    nonblank = os.listdir(convert_path)\n",
    "    \n",
    "    convert_path2 = os.path.normpath(blank_path)\n",
    "    blank = os.listdir(convert_path2)\n",
    "    \n",
    "    new_dict = {\"variance\":[],'std':[],\"mean\":[],'contrast':[],'correlation':[],'energy':[],'homogeneity':[],'entropy':[],'blank':[]}\n",
    "\n",
    "    for image in nonblank:\n",
    "         image_path = os.path.join(convert_path, image)\n",
    "         if image_path.lower().endswith(('.jpg', '.jpeg', '.png')):\n",
    "            img = cv2.imread(image_path)\n",
    "            gray_image = cv2.cvtColor(img, cv2.COLOR_BGR2GRAY)\n",
    "            glcm = graycomatrix(gray_image, [1], [0], 256, symmetric=True, normed=True)\n",
    "            new_dict[\"variance\"].append(np.var(gray_image))\n",
    "            new_dict[\"std\"].append(np.std(gray_image))\n",
    "            new_dict[\"mean\"].append(np.mean(gray_image))\n",
    "            new_dict[\"contrast\"].append(graycoprops(glcm, 'contrast')[0, 0])\n",
    "            new_dict[\"correlation\"].append(graycoprops(glcm, 'correlation')[0, 0])\n",
    "            new_dict[\"energy\"].append(graycoprops(glcm, 'energy')[0, 0])\n",
    "            new_dict[\"homogeneity\"].append(graycoprops(glcm, 'homogeneity')[0, 0])\n",
    "            new_dict[\"entropy\"].append(shannon_entropy(gray_image))\n",
    "\n",
    "            new_dict[\"blank\"].append('0')\n",
    "             \n",
    "    for image in blank:\n",
    "        image_path = os.path.join(convert_path2, image)\n",
    "        if image_path.lower().endswith(('.jpg', '.jpeg', '.png')):\n",
    "            img = cv2.imread(image_path)\n",
    "            gray_image = cv2.cvtColor(img, cv2.COLOR_BGR2GRAY)\n",
    "            glcm = graycomatrix(gray_image, [1], [0], 256, symmetric=True, normed=True)\n",
    "            new_dict[\"variance\"].append(np.var(gray_image))\n",
    "            new_dict[\"std\"].append(np.std(gray_image))\n",
    "            new_dict[\"mean\"].append(np.mean(gray_image))\n",
    "            new_dict[\"contrast\"].append(graycoprops(glcm, 'contrast')[0, 0])\n",
    "            new_dict[\"correlation\"].append(graycoprops(glcm, 'correlation')[0, 0])\n",
    "            new_dict[\"energy\"].append(graycoprops(glcm, 'energy')[0, 0])\n",
    "            new_dict[\"homogeneity\"].append(graycoprops(glcm, 'homogeneity')[0, 0])\n",
    "            new_dict[\"entropy\"].append(shannon_entropy(gray_image))\n",
    "            new_dict[\"blank\"].append('1')\n",
    "             \n",
    "    return new_dict\n"
   ]
  },
  {
   "cell_type": "code",
   "execution_count": 3,
   "id": "e8e12550-622f-4020-90a4-aefa5740d01d",
   "metadata": {},
   "outputs": [],
   "source": [
    "df = pd.DataFrame(get_info(r'C:\\Users\\JS\\Desktop\\combined',r'C:\\Users\\JS\\Desktop\\BlankRawData'))\n",
    "df.to_csv('image_new_270824.csv', index=False)"
   ]
  }
 ],
 "metadata": {
  "kernelspec": {
   "display_name": "Python 3 (ipykernel)",
   "language": "python",
   "name": "python3"
  },
  "language_info": {
   "codemirror_mode": {
    "name": "ipython",
    "version": 3
   },
   "file_extension": ".py",
   "mimetype": "text/x-python",
   "name": "python",
   "nbconvert_exporter": "python",
   "pygments_lexer": "ipython3",
   "version": "3.12.5"
  }
 },
 "nbformat": 4,
 "nbformat_minor": 5
}
